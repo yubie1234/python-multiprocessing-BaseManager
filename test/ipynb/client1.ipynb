{
 "cells": [
  {
   "cell_type": "code",
   "execution_count": 1,
   "id": "2f32e6f9-3956-44eb-9eea-c53fb96718b2",
   "metadata": {},
   "outputs": [
    {
     "name": "stdout",
     "output_type": "stream",
     "text": [
      "3391710\n"
     ]
    }
   ],
   "source": [
    "import os, sys\n",
    "sys.path.insert(0, \"/jf-training-home/src/gitdata/python-multiprocessing-BaseManager\")\n",
    "import custommanager"
   ]
  },
  {
   "cell_type": "code",
   "execution_count": 2,
   "id": "03c32d79-b3c2-4622-b6f4-045a922dbfba",
   "metadata": {},
   "outputs": [],
   "source": [
    "s1_option = {\"ip\": \"127.0.0.1\", \"port\": 50000, \"authkey\": b\"abcdefg\" }\n"
   ]
  },
  {
   "cell_type": "code",
   "execution_count": 3,
   "id": "b135406f-0593-430f-bfba-dd9d8aab6e50",
   "metadata": {},
   "outputs": [],
   "source": [
    "m = custommanager.get_manager(**s1_option)"
   ]
  },
  {
   "cell_type": "code",
   "execution_count": 4,
   "id": "3d372d41-a2d4-4ba3-ab7a-848f4b9041dd",
   "metadata": {},
   "outputs": [],
   "source": [
    "dict1 = m.dict1()"
   ]
  },
  {
   "cell_type": "code",
   "execution_count": 5,
   "id": "c881dc2a-3f33-44b9-b07a-f4a9d7b426d2",
   "metadata": {},
   "outputs": [
    {
     "name": "stdout",
     "output_type": "stream",
     "text": [
      "{}\n",
      "{'client1': 1}\n",
      "{'client1': 2}\n"
     ]
    }
   ],
   "source": [
    "print(dict1)\n",
    "\n",
    "dict1[\"client1\"] = 1\n",
    "\n",
    "print(dict1)\n",
    "\n",
    "dict1[\"client1\"] += 1\n",
    "\n",
    "print(dict1)"
   ]
  },
  {
   "cell_type": "code",
   "execution_count": null,
   "id": "a109987b-2d44-48c6-ad96-c87c6dccc706",
   "metadata": {},
   "outputs": [],
   "source": []
  }
 ],
 "metadata": {
  "kernelspec": {
   "display_name": "Python 3",
   "language": "python",
   "name": "python3"
  },
  "language_info": {
   "codemirror_mode": {
    "name": "ipython",
    "version": 3
   },
   "file_extension": ".py",
   "mimetype": "text/x-python",
   "name": "python",
   "nbconvert_exporter": "python",
   "pygments_lexer": "ipython3",
   "version": "3.8.8"
  }
 },
 "nbformat": 4,
 "nbformat_minor": 5
}
