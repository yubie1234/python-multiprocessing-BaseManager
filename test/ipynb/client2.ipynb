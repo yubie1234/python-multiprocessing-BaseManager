{
 "cells": [
  {
   "cell_type": "code",
   "execution_count": 1,
   "id": "2f32e6f9-3956-44eb-9eea-c53fb96718b2",
   "metadata": {},
   "outputs": [
    {
     "name": "stdout",
     "output_type": "stream",
     "text": [
      "3391972\n"
     ]
    }
   ],
   "source": [
    "import os, sys\n",
    "sys.path.insert(0, \"/jf-training-home/src/gitdata/python-multiprocessing-BaseManager\")\n",
    "import custommanager"
   ]
  },
  {
   "cell_type": "code",
   "execution_count": 2,
   "id": "03c32d79-b3c2-4622-b6f4-045a922dbfba",
   "metadata": {},
   "outputs": [],
   "source": [
    "s2_option = {\"ip\": \"127.0.0.1\", \"port\": 50001, \"authkey\": b\"abcdefg\" }\n"
   ]
  },
  {
   "cell_type": "code",
   "execution_count": 3,
   "id": "013b08ba-5663-4ade-9ea3-46279e9ceab2",
   "metadata": {},
   "outputs": [],
   "source": [
    "m = custommanager.get_manager(**s2_option)"
   ]
  },
  {
   "cell_type": "code",
   "execution_count": 4,
   "id": "6bd12c31-f2a5-4ad0-aaf6-601bb34121ae",
   "metadata": {},
   "outputs": [],
   "source": [
    "dict1 = m.dict1()"
   ]
  },
  {
   "cell_type": "code",
   "execution_count": 5,
   "id": "47501c6b-636e-47aa-94f2-9f6d386f06d2",
   "metadata": {},
   "outputs": [
    {
     "name": "stdout",
     "output_type": "stream",
     "text": [
      "{}\n",
      "{'client2': 1}\n",
      "{'client2': 2}\n"
     ]
    }
   ],
   "source": [
    "print(dict1)\n",
    "\n",
    "dict1[\"client2\"] = 1\n",
    "\n",
    "print(dict1)\n",
    "\n",
    "dict1[\"client2\"] += 1\n",
    "\n",
    "print(dict1)"
   ]
  },
  {
   "cell_type": "code",
   "execution_count": null,
   "id": "7d7f39c1-e56a-4b76-8d29-be6269d316ba",
   "metadata": {},
   "outputs": [],
   "source": []
  }
 ],
 "metadata": {
  "kernelspec": {
   "display_name": "Python 3",
   "language": "python",
   "name": "python3"
  },
  "language_info": {
   "codemirror_mode": {
    "name": "ipython",
    "version": 3
   },
   "file_extension": ".py",
   "mimetype": "text/x-python",
   "name": "python",
   "nbconvert_exporter": "python",
   "pygments_lexer": "ipython3",
   "version": "3.8.8"
  }
 },
 "nbformat": 4,
 "nbformat_minor": 5
}
