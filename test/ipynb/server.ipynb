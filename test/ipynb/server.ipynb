{
 "cells": [
  {
   "cell_type": "code",
   "execution_count": 1,
   "id": "2f32e6f9-3956-44eb-9eea-c53fb96718b2",
   "metadata": {},
   "outputs": [
    {
     "name": "stdout",
     "output_type": "stream",
     "text": [
      "3391499\n"
     ]
    }
   ],
   "source": [
    "%config Completer.use_jedi = False\n",
    "import os, sys\n",
    "sys.path.insert(0, \"/jf-training-home/src/gitdata/python-multiprocessing-BaseManager\")\n",
    "import custommanager"
   ]
  },
  {
   "cell_type": "code",
   "execution_count": 2,
   "id": "054cc3ea-f4c7-487a-8046-1f17ca8975d9",
   "metadata": {},
   "outputs": [],
   "source": [
    "s1_option = {\"ip\": \"127.0.0.1\", \"port\": 50000, \"authkey\": b\"abcdefg\" }\n",
    "s2_option = {\"ip\": \"127.0.0.1\", \"port\": 50001, \"authkey\": b\"abcdefg\" }\n",
    "\n",
    "s1 = custommanager.start_server(**s1_option)\n",
    "s2 = custommanager.start_server(**s2_option)\n"
   ]
  },
  {
   "cell_type": "code",
   "execution_count": 3,
   "id": "03c32d79-b3c2-4622-b6f4-045a922dbfba",
   "metadata": {},
   "outputs": [],
   "source": [
    "m1 = custommanager.get_manager(**s1_option)\n",
    "m2 = custommanager.get_manager(**s2_option)\n",
    "\n",
    "\n",
    "m1_dict1 = m1.dict1()\n",
    "m2_dict1 = m2.dict1()"
   ]
  },
  {
   "cell_type": "code",
   "execution_count": 6,
   "id": "951fdd4b-2773-4304-a02d-286275025f27",
   "metadata": {},
   "outputs": [
    {
     "name": "stdout",
     "output_type": "stream",
     "text": [
      "{'client1': 2} {'client2': 2}\n"
     ]
    }
   ],
   "source": [
    "print(m1_dict1, m2_dict1)\n",
    "\n"
   ]
  },
  {
   "cell_type": "code",
   "execution_count": null,
   "id": "5a1aab0c-73df-40e3-a126-8f1cbb68cfb6",
   "metadata": {},
   "outputs": [],
   "source": []
  }
 ],
 "metadata": {
  "kernelspec": {
   "display_name": "Python 3",
   "language": "python",
   "name": "python3"
  },
  "language_info": {
   "codemirror_mode": {
    "name": "ipython",
    "version": 3
   },
   "file_extension": ".py",
   "mimetype": "text/x-python",
   "name": "python",
   "nbconvert_exporter": "python",
   "pygments_lexer": "ipython3",
   "version": "3.8.8"
  }
 },
 "nbformat": 4,
 "nbformat_minor": 5
}
